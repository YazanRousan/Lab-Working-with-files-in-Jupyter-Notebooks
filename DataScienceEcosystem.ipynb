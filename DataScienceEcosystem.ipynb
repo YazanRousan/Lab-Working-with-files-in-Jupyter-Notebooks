{
 "cells": [
  {
   "cell_type": "markdown",
   "id": "82b3c4e3-2e95-4c25-9ccb-13bc63ac6623",
   "metadata": {},
   "source": [
    "# Data Science Tools and Ecosystem"
   ]
  },
  {
   "attachments": {},
   "cell_type": "markdown",
   "id": "3773b546-9143-4819-9aed-e3c853e40253",
   "metadata": {},
   "source": [
    "In this notebook, Data Science Tools and Ecosystem are summarized."
   ]
  },
  {
   "cell_type": "markdown",
   "id": "6dcfe6d4-0a6f-4431-9ef4-1be9825ba10f",
   "metadata": {},
   "source": [
    "**Objective**\n",
    "\n",
    "You should be acquainted with:\n",
    "+ The popular languages that Data Scientists use\n",
    "+ the commonly used libraries used by Data Scientists\n",
    "+ Coding evaluating arithmetic expressions in Python"
   ]
  },
  {
   "cell_type": "markdown",
   "id": "bfc3d253-61f3-492b-9e76-7904f50ce4c0",
   "metadata": {},
   "source": [
    "Some of the popular languages that Data Scientists use are:"
   ]
  },
  {
   "cell_type": "markdown",
   "id": "614b4a88-ba1d-4a24-8ece-2da857209b0a",
   "metadata": {},
   "source": [
    "|Number|Language|\n",
    "|-----|-------|\n",
    "|1|Python|\n",
    "|2|R|\n",
    "|3|Julia|"
   ]
  },
  {
   "cell_type": "markdown",
   "id": "4e4a8671-f29b-48e0-b106-2939fcf8cb7f",
   "metadata": {},
   "source": [
    "Some of the commonly used libraries used by Data Scientists include:\n",
    "|Number|Libraries|\n",
    "|------|---------|\n",
    "|1|NumPy|\n",
    "|2|Pandas|\n",
    "|3|SciPy|"
   ]
  },
  {
   "cell_type": "markdown",
   "id": "e70b44cd-4313-4a59-a402-c53679030d57",
   "metadata": {},
   "source": [
    "|Data Science Tools|\n",
    "|------|\n",
    "|Jupyter Notebook/JupyterLab|\n",
    "|RStudio|\n",
    "|Visual Studio Code|"
   ]
  },
  {
   "cell_type": "markdown",
   "id": "6cc6b482-88e7-4d35-9078-b7b3afa581ba",
   "metadata": {},
   "source": [
    "### Below are a few examples of evaluating arithmetic expressions in Python"
   ]
  },
  {
   "cell_type": "code",
   "execution_count": 9,
   "id": "5cc64317-7be0-4511-b5ad-4bc739d739eb",
   "metadata": {},
   "outputs": [
    {
     "name": "stdout",
     "output_type": "stream",
     "text": [
      "17\n"
     ]
    }
   ],
   "source": [
    "#This a simple arithmetic expression to multiply then add integers\n",
    "print ((3*4)+5)"
   ]
  },
  {
   "cell_type": "code",
   "execution_count": 11,
   "id": "24d84b4a-76c0-4aa3-8897-b046883796fb",
   "metadata": {},
   "outputs": [
    {
     "name": "stdout",
     "output_type": "stream",
     "text": [
      "3.3333333333333335\n"
     ]
    }
   ],
   "source": [
    "#This will convert 200 minutes to hours by diving by 60\n",
    "x=200\n",
    "y=x/60\n",
    "print(y)"
   ]
  },
  {
   "cell_type": "markdown",
   "id": "12e9a648-b05d-4187-b94f-4c3aa6100ea4",
   "metadata": {},
   "source": [
    "## Author\n",
    "Yazan Al-Rosan"
   ]
  },
  {
   "cell_type": "code",
   "execution_count": null,
   "id": "14e48d40-241f-4bdf-ae28-5f94bb4ec88a",
   "metadata": {},
   "outputs": [],
   "source": []
  }
 ],
 "metadata": {
  "kernelspec": {
   "display_name": "Python 3 (ipykernel)",
   "language": "python",
   "name": "python3"
  },
  "language_info": {
   "codemirror_mode": {
    "name": "ipython",
    "version": 3
   },
   "file_extension": ".py",
   "mimetype": "text/x-python",
   "name": "python",
   "nbconvert_exporter": "python",
   "pygments_lexer": "ipython3",
   "version": "3.12.8"
  }
 },
 "nbformat": 4,
 "nbformat_minor": 5
}
